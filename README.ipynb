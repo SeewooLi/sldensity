{
 "cells": [
  {
   "cell_type": "code",
   "execution_count": 1,
   "id": "5cd171b0-3a8d-420b-969e-0b2d5c4f8e68",
   "metadata": {
    "execution": {
     "iopub.execute_input": "2023-01-11T02:12:53.878763Z",
     "iopub.status.busy": "2023-01-11T02:12:53.878329Z",
     "iopub.status.idle": "2023-01-11T02:13:13.349121Z",
     "shell.execute_reply": "2023-01-11T02:13:13.347854Z",
     "shell.execute_reply.started": "2023-01-11T02:12:53.878727Z"
    },
    "tags": []
   },
   "outputs": [
    {
     "name": "stdout",
     "output_type": "stream",
     "text": [
      "Collecting sldensityNote: you may need to restart the kernel to use updated packages.\n"
     ]
    },
    {
     "name": "stderr",
     "output_type": "stream",
     "text": [
      "  ERROR: Cannot unpack file C:\\Users\\Public\\Documents\\ESTsoft\\CreatorTemp\\pip-unpack-bs4zanra\\sldensity.git (downloaded from C:\\Users\\Public\\Documents\\ESTsoft\\CreatorTemp\\pip-install-dhhfk01a\\sldensity_0aedf6fa396d41dfaffc03eb007ccb5d, content-type: text/html; charset=utf-8); cannot detect archive format\n",
      "ERROR: Cannot determine archive format of C:\\Users\\Public\\Documents\\ESTsoft\\CreatorTemp\\pip-install-dhhfk01a\\sldensity_0aedf6fa396d41dfaffc03eb007ccb5d\n",
      "\n",
      "[notice] A new release of pip is available: 23.2.1 -> 23.3.1\n",
      "[notice] To update, run: python.exe -m pip install --upgrade pip\n"
     ]
    },
    {
     "name": "stdout",
     "output_type": "stream",
     "text": [
      "\n",
      "  Downloading https://github.com/SeewooLi/sldensity.git\n",
      "     - 0 bytes ? 0:00:00\n",
      "     - 202.8 kB 12.0 MB/s 0:00:00\n"
     ]
    }
   ],
   "source": [
    "%pip install --force-reinstall https://github.com/SeewooLi/sldensity.git#egg=sldensity"
   ]
  },
  {
   "cell_type": "code",
   "execution_count": 8,
   "id": "1a07230b-e077-4ebf-8881-e78752bc9078",
   "metadata": {
    "execution": {
     "iopub.execute_input": "2023-01-09T01:06:06.664071Z",
     "iopub.status.busy": "2023-01-09T01:06:06.663726Z",
     "iopub.status.idle": "2023-01-09T01:06:07.665899Z",
     "shell.execute_reply": "2023-01-09T01:06:07.665230Z",
     "shell.execute_reply.started": "2023-01-09T01:06:06.664039Z"
    },
    "jupyter": {
     "source_hidden": true
    },
    "tags": []
   },
   "outputs": [],
   "source": [
    "import sldensity as sl\n",
    "from scipy.stats import genlogistic\n",
    "import scipy.special as gms\n",
    "from scipy.stats import norm\n",
    "import pandas as pd\n",
    "import numpy as np\n",
    "pd.plotting.register_matplotlib_converters()\n",
    "import matplotlib.pyplot as plt\n",
    "%matplotlib inline\n",
    "import seaborn as sns"
   ]
  },
  {
   "cell_type": "code",
   "execution_count": 1,
   "id": "35ad75b4",
   "metadata": {},
   "outputs": [],
   "source": [
    "from sldensity import *"
   ]
  },
  {
   "cell_type": "markdown",
   "id": "e84045bf",
   "metadata": {},
   "source": [
    "# PRHL (proportional reversed hazard logistic) distribution\n",
    "\n",
    "$$\n",
    "f(X)=\\frac{\\alpha e^{-x}}{\\left(1+e^{-x}\\right)^{\\alpha+1}}\n",
    "$$\n",
    "\\\n",
    "$$\n",
    "F(X)=\\left(1+e^{-x}\\right)^{-\\alpha}\n",
    "$$\n",
    "\\\n",
    "$$\n",
    "f(X;\\alpha,\\mu,\\lambda)=\\frac{\\alpha \\lambda e^{-\\lambda (x-\\mu)}}{\\left(1+e^{-\\lambda (x-\\mu)}\\right)^{\\alpha+1}}\n",
    "$$\n",
    "\\\n",
    "$$\n",
    "F(X;\\alpha,\\mu,\\lambda)=\\left(1+e^{-\\lambda (x-\\mu)}\\right)^{-\\alpha}\n",
    "$$\n",
    "\n",
    "## **Digamma and poly-gamma functions**\n",
    "$$\n",
    "\\begin{align}\n",
    "\\psi(x)&=\\frac{d}{dx}\\log{\\Gamma(x)}\\\\\n",
    "&=\\frac{\\Gamma'(x)}{\\Gamma(x)}\\\\\n",
    "&\\approx\\log{x}-\\sum_{k=1}^{\\infty}\\frac{B_k}{kz^k}\\\\\n",
    "&\\approx\\log{x}-\\frac{1}{2x}-\\frac{1}{12x^2}+\\cdots\\\\\n",
    "\\\n",
    "\\end{align}\n",
    "$$\n",
    ",\n",
    "   \n",
    "$$\n",
    "\\psi^{(n)}(x)=\\frac{d^n}{dx^n}\\psi(x)\\\\\n",
    "\\\n",
    "$$\n",
    ",\n",
    "   \n",
    "$$\n",
    "\\begin{align}\n",
    "\\psi'(x)&=\\frac{d}{dx}\\psi(x)\\\\\n",
    "&=\\frac{\\Gamma''(x)}{\\Gamma(x)}-\\left(\\psi(x)\\right)^2\\\\\n",
    "&\\approx\\sum_{k=0}^{\\infty}\\frac{B_k}{z^{k+1}}\\\\\n",
    "&\\approx\\frac{1}{z}+\\frac{1}{2z^2}+\\frac{1}{6z^3}+\\cdots\n",
    "\\end{align}\n",
    "$$\n",
    ",\n",
    "   \n",
    "and\n",
    "$$\n",
    "\\begin{align}\n",
    "\\psi''(x)&=\\frac{d}{dx}\\psi'(x)\\\\\n",
    "&=\\frac{d}{dx}\\left[\\frac{\\Gamma''(x)}{\\Gamma(x)}-\\left(\\psi(x)\\right)^2\\right]\\\\\n",
    "&=\\frac{\\Gamma^{(3)}(x)}{\\Gamma(x)}-3\\psi'(x)\\psi(x)-\\left(\\psi(x)\\right)^3\\\\\n",
    "&\\approx-\\sum_{k=0}^{\\infty}(k+1)\\frac{B_k}{z^{k+2}}\\\\\n",
    "&\\approx-\\frac{1}{z^2}-\\frac{1}{z^3}-\\frac{1}{2z^4}+\\cdots\n",
    "\\end{align}\n",
    "$$"
   ]
  },
  {
   "cell_type": "code",
   "execution_count": 9,
   "id": "19da2e4b",
   "metadata": {},
   "outputs": [
    {
     "data": {
      "text/plain": [
       "[Text(0.5, 1.0, 'Digamma'), (-10.0, 4.0), (0.0, 5.0)]"
      ]
     },
     "execution_count": 9,
     "metadata": {},
     "output_type": "execute_result"
    },
    {
     "data": {
      "image/png": "[encoded data removed]",
      "text/plain": [
       "<Figure size 640x480 with 1 Axes>"
      ]
     },
     "metadata": {},
     "output_type": "display_data"
    }
   ],
   "source": [
    "xxx=np.arange(0.001,5,0.001)\n",
    "plot = sns.lineplot(\n",
    "    x=xxx,\n",
    "    y=np.log(xxx)-1/(2*xxx)-1/(12*xxx**2),\n",
    "    label='Taylor approx'\n",
    ")\n",
    "plot = sns.lineplot(\n",
    "    x=xxx,\n",
    "    y=gms.digamma(xxx),\n",
    "    label='True'\n",
    ")\n",
    "plot.set(title='Digamma',\n",
    "         ylim=(-10,4),\n",
    "        xlim=(0,5))"
   ]
  },
  {
   "cell_type": "code",
   "execution_count": 10,
   "id": "595479bd",
   "metadata": {},
   "outputs": [
    {
     "data": {
      "text/plain": [
       "[Text(0.5, 1.0, 'Trigamma'), (0.0, 10.0), (0.0, 5.0)]"
      ]
     },
     "execution_count": 10,
     "metadata": {},
     "output_type": "execute_result"
    },
    {
     "data": {
      "image/png": "[encoded data removed]",
      "text/plain": [
       "<Figure size 640x480 with 1 Axes>"
      ]
     },
     "metadata": {},
     "output_type": "display_data"
    }
   ],
   "source": [
    "xxx=np.arange(0.001,5,0.001)\n",
    "plot = sns.lineplot(\n",
    "    x=xxx,\n",
    "    y=1/xxx+1/(2*xxx**2)+1/(6*xxx**3),\n",
    "    label='Taylor approx'\n",
    ")\n",
    "plot = sns.lineplot(\n",
    "    x=xxx,\n",
    "    y=gms.polygamma(1,np.arange(0.001,5,0.001)),\n",
    "    label='True'\n",
    ")\n",
    "plot.set(title='Trigamma',\n",
    "         ylim=(0,10),\n",
    "        xlim=(0,5))"
   ]
  },
  {
   "cell_type": "code",
   "execution_count": 11,
   "id": "79ae90bd",
   "metadata": {},
   "outputs": [
    {
     "data": {
      "text/plain": [
       "[Text(0.5, 1.0, 'Quadgamma'), (-20.0, 0.0), (0.0, 5.0)]"
      ]
     },
     "execution_count": 11,
     "metadata": {},
     "output_type": "execute_result"
    },
    {
     "data": {
      "image/png": "[encoded data removed]",
      "text/plain": [
       "<Figure size 640x480 with 1 Axes>"
      ]
     },
     "metadata": {},
     "output_type": "display_data"
    }
   ],
   "source": [
    "xxx=np.arange(0.001,5,0.001)\n",
    "plot = sns.lineplot(\n",
    "    x=xxx,\n",
    "    y=-1/(xxx**2)-1/(xxx**3)-1/(2*xxx**4),\n",
    "    label='Taylor approx'\n",
    ")\n",
    "plot = sns.lineplot(\n",
    "    x=xxx,\n",
    "    y=gms.polygamma(2,np.arange(0.001,5,0.001)),\n",
    "    label='True'\n",
    ")\n",
    "plot.set(title='Quadgamma',\n",
    "         ylim=(-20,0),\n",
    "        xlim=(0,5))"
   ]
  },
  {
   "cell_type": "code",
   "execution_count": null,
   "id": "28636d6c",
   "metadata": {},
   "outputs": [],
   "source": []
  },
  {
   "cell_type": "markdown",
   "id": "e80c6d2c",
   "metadata": {},
   "source": [
    "## Mean and Variance of PRHL\n",
    "\n",
    "### **MGF**\n",
    "\n",
    "$$\n",
    "\\begin{align}\n",
    "M_x(t)&=E(e^{tx})=\\int_{-\\infty}^{\\infty}e^{tx}\\frac{\\alpha \\lambda e^{-\\lambda (x-\\mu)}}{\\left(1+e^{-\\lambda (x-\\mu)}\\right)^{\\alpha+1}}\\,dx\\\\\n",
    "&=e^{t\\mu}\\frac{\\Gamma\\left(1-\\frac{t}{\\lambda}\\right)\\Gamma\\left(\\alpha+\\frac{t}{\\lambda}\\right)}{\\Gamma(\\alpha)}\n",
    "\\end{align}\n",
    "$$"
   ]
  },
  {
   "cell_type": "markdown",
   "id": "eaf924ef",
   "metadata": {},
   "source": [
    "Let, $u=\\left(1+e^{-\\lambda (x-\\mu)}\\right)^{-1}$.\n",
    "\n",
    "Then, $\\frac{du}{dx}=\\frac{\\lambda e^{-\\lambda (x-\\mu)}}{\\left(1+e^{-\\lambda (x-\\mu)}\\right)^{2}}$,\n",
    "\n",
    "and\n",
    "$$\n",
    "\\begin{align}\n",
    "\\frac{1-u}{u}&=e^{\\lambda(x-\\mu)}\\\\\n",
    "e^{-\\lambda\\mu}\\left(\\frac{1-u}{u}\\right)&=e^{-\\lambda x}\\\\\n",
    "\\left[e^{-\\lambda\\mu}\\left(\\frac{1-u}{u}\\right)\\right]^{-\\frac{t}{\\lambda}}&=e^{tx}\n",
    "\\end{align}\n",
    "$$"
   ]
  },
  {
   "cell_type": "markdown",
   "id": "4b19f4f3",
   "metadata": {},
   "source": [
    "Therefore,\n",
    "$$\n",
    "\\begin{align}\n",
    "M_x(t)&=E(e^{tx})=\\int_{0}^{1}\\left[e^{-\\lambda\\mu}\\left(\\frac{1-u}{u}\\right)\\right]^{-\\frac{t}{\\lambda}}\\frac{\\alpha}{\\left(1+e^{-\\lambda (x-\\mu)}\\right)^{\\alpha-1}}\\,du\\\\\n",
    "&=\\int_{0}^{1}\\left[e^{-\\lambda\\mu}\\left(\\frac{1-u}{u}\\right)\\right]^{-\\frac{t}{\\lambda}}\\alpha u^{\\alpha-1}\\,du\\\\\n",
    "&=\\alpha e^{t\\mu}\\int_{0}^{1}(1-u)^{-\\frac{t}{\\lambda}}u^{\\frac{t}{\\lambda}} u^{\\alpha-1}\\,du\\\\\n",
    "&=\\alpha e^{t\\mu}\\int_{0}^{1}(1-u)^{-\\frac{t}{\\lambda}}u^{\\alpha+\\frac{t}{\\lambda}-1}\\,du\\\\\n",
    "&=\\alpha e^{t\\mu} Beta\\left(1-\\frac{t}{\\lambda},\\, \\alpha+\\frac{t}{\\lambda}\\right)\\\\\n",
    "&=\\alpha e^{t\\mu}\\frac{\\Gamma\\left(1-\\frac{t}{\\lambda}\\right)\\Gamma\\left(\\alpha+\\frac{t}{\\lambda}\\right)}{\\Gamma(\\alpha+1)}\\\\\n",
    "&=e^{t\\mu}\\frac{\\Gamma\\left(1-\\frac{t}{\\lambda}\\right)\\Gamma\\left(\\alpha+\\frac{t}{\\lambda}\\right)}{\\Gamma(\\alpha)}\n",
    "\\end{align}\n",
    "$$"
   ]
  },
  {
   "cell_type": "markdown",
   "id": "ee1bcdbd",
   "metadata": {},
   "source": [
    "### **Moments**\n",
    "\n",
    "$$\n",
    "\\begin{align}\n",
    "M'_x(t)&=\\mu M_x(t)+e^{t\\mu}\\left[\\frac{\\Gamma'\\left(\\alpha+\\frac{t}{\\lambda}\\right)\\Gamma\\left(1-\\frac{t}{\\lambda}\\right)}{\\lambda\\Gamma\\left(\\alpha\\right)}-\\frac{\\Gamma\\left(\\alpha+\\frac{t}{\\lambda}\\right)\\Gamma'\\left(1-\\frac{t}{\\lambda}\\right)}{\\lambda\\Gamma\\left(\\alpha\\right)}\\right]\n",
    "\\end{align}\\\\\n",
    "$$\n",
    ",\n",
    "\n",
    "\\\n",
    "$$\n",
    "\\begin{align}\n",
    "M''_x(t)&=\\mu M'_x(t)\\\\\n",
    "&\\qquad +\\mu e^{t\\mu}\\left[\\frac{\\Gamma'\\left(\\alpha+\\frac{t}{\\lambda}\\right)\\Gamma\\left(1-\\frac{t}{\\lambda}\\right)}{\\lambda\\Gamma\\left(\\alpha\\right)}-\\frac{\\Gamma\\left(\\alpha+\\frac{t}{\\lambda}\\right)\\Gamma'\\left(1-\\frac{t}{\\lambda}\\right)}{\\lambda\\Gamma\\left(\\alpha\\right)}\\right]\\\\\n",
    "&\\qquad +e^{t\\mu}\\left[\\frac{\\Gamma''\\left(\\alpha+\\frac{t}{\\lambda}\\right)\\Gamma\\left(1-\\frac{t}{\\lambda}\\right)-\\Gamma'\\left(\\alpha+\\frac{t}{\\lambda}\\right)\\Gamma'\\left(1-\\frac{t}{\\lambda}\\right)}{\\lambda^2\\Gamma\\left(\\alpha\\right)}\n",
    "-\\frac{\\Gamma'\\left(\\alpha+\\frac{t}{\\lambda}\\right)\\Gamma'\\left(1-\\frac{t}{\\lambda}\\right)-\\Gamma\\left(\\alpha+\\frac{t}{\\lambda}\\right)\\Gamma''\\left(1-\\frac{t}{\\lambda}\\right)}{\\lambda^2\\Gamma\\left(\\alpha\\right)}\\right]\n",
    "\\end{align}\n",
    "$$\n",
    ",\n",
    "\n",
    "\\\n",
    "and\n",
    "$$\n",
    "\\begin{align}\n",
    "M^{(3)}_x(t)&=\\mu M''_x(t)\\\\\n",
    "&\\qquad +\\mu^2 e^{t\\mu}\\left[\\frac{\\Gamma'\\left(\\alpha+\\frac{t}{\\lambda}\\right)\\Gamma\\left(1-\\frac{t}{\\lambda}\\right)}{\\lambda\\Gamma\\left(\\alpha\\right)}-\\frac{\\Gamma\\left(\\alpha+\\frac{t}{\\lambda}\\right)\\Gamma'\\left(1-\\frac{t}{\\lambda}\\right)}{\\lambda\\Gamma\\left(\\alpha\\right)}\\right]\\\\\n",
    "&\\qquad +2\\mu e^{t\\mu}\\left[\\frac{\\Gamma''\\left(\\alpha+\\frac{t}{\\lambda}\\right)\\Gamma\\left(1-\\frac{t}{\\lambda}\\right)-\\Gamma'\\left(\\alpha+\\frac{t}{\\lambda}\\right)\\Gamma'\\left(1-\\frac{t}{\\lambda}\\right)}{\\lambda^2\\Gamma\\left(\\alpha\\right)}\n",
    "-\\frac{\\Gamma'\\left(\\alpha+\\frac{t}{\\lambda}\\right)\\Gamma'\\left(1-\\frac{t}{\\lambda}\\right)-\\Gamma\\left(\\alpha+\\frac{t}{\\lambda}\\right)\\Gamma''\\left(1-\\frac{t}{\\lambda}\\right)}{\\lambda^2\\Gamma\\left(\\alpha\\right)}\\right]\\\\\n",
    "&\\qquad +e^{t\\mu}\\left[\\frac{\\Gamma^{(3)}\\left(\\alpha+\\frac{t}{\\lambda}\\right)\\Gamma\\left(1-\\frac{t}{\\lambda}\\right)-3\\Gamma''\\left(\\alpha+\\frac{t}{\\lambda}\\right)\\Gamma'\\left(1-\\frac{t}{\\lambda}\\right)}{\\lambda^3 \\Gamma(\\alpha)}\n",
    "+\\frac{+3\\Gamma'\\left(\\alpha+\\frac{t}{\\lambda}\\right)\\Gamma''\\left(1-\\frac{t}{\\lambda}\\right)-\\Gamma\\left(\\alpha+\\frac{t}{\\lambda}\\right)\\Gamma^{(3)}\\left(1-\\frac{t}{\\lambda}\\right)}{\\lambda^3 \\Gamma(\\alpha)}\\right]\n",
    "\\end{align}\n",
    "$$"
   ]
  },
  {
   "cell_type": "markdown",
   "id": "00312608",
   "metadata": {},
   "source": [
    "### **Mean**\n",
    "\n",
    "$$\n",
    "\\begin{align}\n",
    "M'_x(0)=E(x)&=\\mu M_x(0)+\\frac{1}{\\lambda}\\left[\\frac{\\Gamma'(\\alpha)}{\\Gamma(\\alpha)}-\\frac{\\Gamma'(1)}{\\Gamma(1)}\\right]\\\\\n",
    "&=\\mu+\\frac{1}{\\lambda}\\left[\\psi(\\alpha)-\\psi(1)\\right]\\\\\n",
    "&\\approx\\mu+\\frac{1}{\\lambda}\\left[\\log{\\alpha}-\\frac{1}{2\\alpha}-\\frac{1}{12\\alpha^2}+0.57721\\right]\n",
    "\\end{align}\n",
    "$$"
   ]
  },
  {
   "cell_type": "markdown",
   "id": "fa9c059d",
   "metadata": {},
   "source": [
    "### $\\bf{q^{\\text{th}}}$ **quantile**\n",
    "$$\n",
    "Quantile(q)=\\mu-\\frac{1}{\\lambda}\\log{\\left[q^{-\\frac{1}{\\alpha}}-1\\right]}\n",
    "$$\n",
    ", where $0\\le q\\le1$."
   ]
  },
  {
   "cell_type": "markdown",
   "id": "93e33ed6",
   "metadata": {},
   "source": [
    "### **Median**\n",
    "\n",
    "$$\n",
    "Med(x)=\\mu-\\frac{1}{\\lambda}\\log{\\left[2^{\\frac{1}{\\alpha}}-1\\right]}\n",
    "$$"
   ]
  },
  {
   "cell_type": "markdown",
   "id": "4e7f5d12",
   "metadata": {},
   "source": [
    "### **Variance**"
   ]
  },
  {
   "cell_type": "markdown",
   "id": "ba551503",
   "metadata": {},
   "source": [
    "$$\n",
    "\\begin{align}\n",
    "M''_x(0)=E\\left(x^2\\right)&=\\mu M'_x(0)+\\frac{\\mu}{\\lambda}\\left[\\frac{\\Gamma'(\\alpha)}{\\Gamma(\\alpha)}-\\frac{\\Gamma'(1)}{\\Gamma(1)}\\right]\\\\\n",
    "&\\qquad +\\frac{1}{\\lambda^2 \\Gamma(\\alpha)}\\left[\\Gamma''(\\alpha)\\Gamma(1)-2\\Gamma'(\\alpha)\\Gamma'(1)+\\Gamma(\\alpha)\\Gamma''(1)\\right]\\\\\n",
    "&=\\mu M'_x(0)+\\frac{\\mu}{\\lambda}\\left[\\frac{\\Gamma'(\\alpha)}{\\Gamma(\\alpha)}-\\frac{\\Gamma'(1)}{\\Gamma(1)}\\right]\\\\\n",
    "&\\qquad +\\frac{1}{\\lambda^2}\\left[\\frac{\\Gamma''(\\alpha)}{\\Gamma(\\alpha)}-\\left\\{\\frac{\\Gamma'(\\alpha)}{\\Gamma(\\alpha)}\\right\\}^2+\\frac{\\Gamma''(1)}{\\Gamma(1)}-\\left\\{\\frac{\\Gamma'(1)}{\\Gamma(1)}\\right\\}^2\\right]\\\\\n",
    "&\\qquad +\\frac{1}{\\lambda^2}\\left[\\left\\{\\frac{\\Gamma'(\\alpha)}{\\Gamma(\\alpha)}\\right\\}^2-2\\frac{\\Gamma'(\\alpha)}{\\Gamma(\\alpha)}\\frac{\\Gamma'(1)}{\\Gamma(1)}+\\left\\{\\frac{\\Gamma'(1)}{\\Gamma(1)}\\right\\}^2\\right]\\\\\n",
    "&=\\mu^2+2\\frac{\\mu}{\\lambda}\\left[\\psi(\\alpha)-\\psi(1)\\right]\\\\\n",
    "&\\qquad +\\frac{1}{\\lambda^2}\\left[\\psi'(\\alpha)+\\psi'(1)\\right]\\\\\n",
    "&\\qquad +\\frac{1}{\\lambda^2}\\left[\\psi(\\alpha)-\\psi(1)\\right]^2\n",
    "\\end{align}\n",
    "$$\n",
    "\n",
    "> Meanwhile, $\\left[E(x)\\right]^2$ is,\n",
    "$$\n",
    "\\begin{align}\n",
    "\\left[E(x)\\right]^2&=\\left[M'_x(x)\\right]^2\\\\\n",
    "&= \\mu^2+2\\frac{\\mu}{\\lambda}\\left[\\psi(\\alpha)-\\psi(1)\\right]+\\frac{1}{\\lambda^2}\\left[\\psi(\\alpha)-\\psi(1)\\right]^2\n",
    "\\end{align}\n",
    "$$\n"
   ]
  },
  {
   "cell_type": "markdown",
   "id": "4bbca76a",
   "metadata": {},
   "source": [
    "Using $M''_x(0)$ and $\\left[M'_x(x)\\right]^2$,\n",
    "$$\n",
    "\\begin{align}\n",
    "\\therefore Var(x) &=E\\left(x^2\\right)-\\left[E(x)\\right]^2\\\\\n",
    "&= M''_x(0)-\\left[M'_x(x)\\right]^2\\\\\n",
    "&=\\frac{1}{\\lambda^2}\\left[\\psi'(\\alpha)+\\psi'(1)\\right]\\\\\n",
    "&\\approx\\frac{1}{\\lambda^2}\\left[\\frac{1}{\\alpha}+\\frac{1}{2\\alpha^2}+\\frac{1}{6\\alpha^3}+1.64493407\\right]\n",
    "\\end{align}\n",
    "$$\n"
   ]
  },
  {
   "cell_type": "markdown",
   "id": "10795b35",
   "metadata": {},
   "source": [
    "### **Skewness**"
   ]
  },
  {
   "cell_type": "markdown",
   "id": "acf50daa",
   "metadata": {},
   "source": [
    "$$\n",
    "\\begin{align}\n",
    "M^{(3)}_x(0)=E\\left(x^3\\right)&=\\mu M''_x(0)+\\frac{\\mu^2}{\\lambda}\\left[\\psi(\\alpha)-\\psi(1)\\right]\\\\\n",
    "&\\qquad +\\frac{2\\mu}{\\lambda^2}\\left[\\left[\\psi'(\\alpha)+\\psi'(1)\\right]+\\left[\\psi(\\alpha)-\\psi(1)\\right]^2\\right]\\\\\n",
    "&\\qquad +\\frac{1}{\\lambda^3}\\left[\\frac{\\Gamma^{(3)}(\\alpha)}{\\Gamma(\\alpha)}-\\frac{\\Gamma^{(3)}(1)}{\\Gamma(1)}\\right]\\\\\n",
    "&\\qquad -\\frac{1}{\\lambda^3}\\left[3\\psi'(\\alpha)\\psi(1)-3\\psi(\\alpha)\\psi'(1)\\right]\\\\\n",
    "&\\qquad -\\frac{1}{\\lambda^3}\\left[3\\psi(\\alpha)^2\\psi(1)-3\\psi(\\alpha)\\psi(1)^2\\right]\\\\\n",
    "&=\\mu^3+\\frac{3\\mu^2}{\\lambda}\\left[\\psi(\\alpha)-\\psi(1)\\right]\\\\\n",
    "&\\qquad +\\frac{3\\mu}{\\lambda^2}\\left[\\left[\\psi'(\\alpha)+\\psi'(1)\\right]+\\left[\\psi(\\alpha)-\\psi(1)\\right]^2\\right]\\\\\n",
    "&\\qquad +\\frac{1}{\\lambda^3}\\left[\\frac{\\Gamma^{(3)}(\\alpha)}{\\Gamma(\\alpha)}-\\frac{\\Gamma^{(3)}(1)}{\\Gamma(1)}\\right]\\\\\n",
    "&\\qquad -\\frac{1}{\\lambda^3}\\left[3\\psi'(\\alpha)\\psi(1)-3\\psi(\\alpha)\\psi'(1)\\right]\\\\\n",
    "&\\qquad -\\frac{1}{\\lambda^3}\\left[3\\psi(\\alpha)^2\\psi(1)-3\\psi(\\alpha)\\psi(1)^2\\right]\n",
    "\\end{align}\n",
    "$$"
   ]
  },
  {
   "cell_type": "markdown",
   "id": "bdcac32e",
   "metadata": {},
   "source": [
    "> Meanwhile, $\\left[E(x)\\right]^3$ is,\n",
    "$$\n",
    "\\begin{align}\n",
    "\\left[E(x)\\right]^2&=\\left[M'_x(x)\\right]^3\\\\\n",
    "&=\\mu^3+\\frac{3\\mu^2}{\\lambda}\\left[\\psi(\\alpha)-\\psi(1)\\right]\\\\\n",
    "&\\qquad +\\frac{3\\mu}{\\lambda^2}\\left[\\psi(\\alpha)-\\psi(1)\\right]^2 + \\frac{1}{\\lambda^3}\\left[\\psi(\\alpha)-\\psi(1)\\right]^3\\\\\n",
    "\\end{align}\\\\\n",
    "$$\n",
    ", and $3E(x)Var(x)$ is,\n",
    "$$\n",
    "\\begin{align}\n",
    "3E(x)Var(x)&=\\frac{3\\mu}{\\lambda^2}\\left[\\psi'(\\alpha)+\\psi'(1)\\right]\\\\\n",
    "&\\qquad +\\frac{3}{\\lambda^3}\\left[\\psi'(\\alpha)+\\psi'(1)\\right]\\left[\\psi(\\alpha)-\\psi(1)\\right]\n",
    "\\end{align}\n",
    "$$"
   ]
  },
  {
   "cell_type": "markdown",
   "id": "3fd00327",
   "metadata": {},
   "source": [
    "$$\n",
    "\\begin{align}\n",
    "Var(x)^{\\frac{3}{2}}Skew(x)&=E\\left[\\left(x-E(x)\\right)^3\\right]=E\\left(x^3\\right)-3E(x)Var(x)-E(x)^3\\\\\n",
    "&=M^{(3)}_x(0)-3Mean(x)Var(x)-Mean(x)^3\\\\\n",
    "&=\\frac{1}{\\lambda^3}\\left[\\frac{\\Gamma^{(3)}(\\alpha)}{\\Gamma(\\alpha)}-\\frac{\\Gamma^{(3)}(1)}{\\Gamma(1)}\\right]\\\\\n",
    "&\\qquad -\\frac{1}{\\lambda^3}\\left[3\\psi'(\\alpha)\\psi(1)-3\\psi(\\alpha)\\psi'(1)\\right]\\\\\n",
    "&\\qquad -\\frac{1}{\\lambda^3}\\left[3\\psi(\\alpha)^2\\psi(1)-3\\psi(\\alpha)\\psi(1)^2\\right]\\\\\n",
    "&\\qquad -\\frac{1}{\\lambda^3}\\left[\\psi(\\alpha)-\\psi(1)\\right]^3-\\frac{3}{\\lambda^3}\\left[\\psi'(\\alpha)+\\psi'(1)\\right]\\left[\\psi(\\alpha)-\\psi(1)\\right]\\\\\n",
    "&=\\frac{1}{\\lambda^3}\\left[\\frac{\\Gamma^{(3)}(\\alpha)}{\\Gamma(\\alpha)}-\\frac{\\Gamma^{(3)}(1)}{\\Gamma(1)}\\right]\\\\\n",
    "&\\qquad -\\frac{1}{\\lambda^3}\\left[\\psi(\\alpha)^3-\\psi(1)^3\\right]-\\frac{3}{\\lambda^3}\\left[\\psi'(\\alpha)\\psi(\\alpha)-\\psi'(1)\\psi(1)\\right]\\\\\n",
    "&=\\frac{1}{\\lambda^3}\\left[\\psi''(\\alpha)-\\psi''(1)\\right]\\\\\n",
    "&\\approx-\\frac{1}{\\lambda^3}\\left[\\frac{1}{\\alpha^2}+\\frac{1}{\\alpha^3}+\\frac{1}{2\\alpha^4}-2.40411381\\right]\n",
    "\\end{align}\n",
    "$$"
   ]
  },
  {
   "cell_type": "markdown",
   "id": "fad68b8b",
   "metadata": {},
   "source": [
    "$$\n",
    "\\therefore\n",
    "\\begin{align}\n",
    "Skew(x)&=\\frac{\\left[\\psi''(\\alpha)-\\psi''(1)\\right]}{\\left[\\psi'(\\alpha)+\\psi'(1)\\right]^{\\frac{3}{2}}}\\\\\n",
    "&\\approx -\\frac{\\frac{1}{\\alpha^2}+\\frac{1}{\\alpha^3}+\\frac{1}{2\\alpha^4}-2.40411381}{\\left[\\frac{1}{\\alpha}+\\frac{1}{2\\alpha^2}+\\frac{1}{6\\alpha^3}+1.64493407\\right]^{\\frac{3}{2}}}\n",
    "\\end{align}\n",
    "$$"
   ]
  },
  {
   "cell_type": "markdown",
   "id": "90816918",
   "metadata": {},
   "source": [
    "# Estimation for ($\\alpha$, $\\mu$, $\\lambda$)"
   ]
  },
  {
   "cell_type": "markdown",
   "id": "4bebaf0b",
   "metadata": {},
   "source": [
    "Letting $\\zeta$ refer to the skewness of PRHL distribution,\\\n",
    "the skewness parameter $\\alpha$ can be estimated approximately by finding a solution of the following equation in which a numerical method (e.g., Newton-Raphson method) can be used\n",
    "$$\n",
    "\\zeta \\left[\\frac{1}{\\alpha}+\\frac{1}{2\\alpha^2}+\\frac{1}{6\\alpha^3}+1.64493407\\right]^{\\frac{3}{2}}+\\frac{1}{\\alpha^2}+\\frac{1}{\\alpha^3}+\\frac{1}{2\\alpha^4}-2.40411381=0,\n",
    "$$\n",
    "or, equivalently, without asymptotic approximation,\n",
    "$$\n",
    "\\zeta\\left[\\psi'(\\alpha)+\\psi'(1)\\right]^{\\frac{3}{2}}-\\left[\\psi''(\\alpha)-\\psi''(1)\\right]=0\n",
    "$$\n",
    "."
   ]
  },
  {
   "cell_type": "markdown",
   "id": "8818b8b1",
   "metadata": {},
   "source": [
    "## Newton-Raphson method for the estimation of $\\alpha$\n",
    "\n",
    "* without asymtotic approximation\n",
    "\n",
    "Let $f(\\alpha)=\\zeta\\left[\\psi'(\\alpha)+\\psi'(1)\\right]-\\left[\\psi''(\\alpha)-\\psi''(1)\\right]$.\n",
    "\n",
    "\n",
    "\\\n",
    "$$\n",
    "\\begin{align}\n",
    "f'(\\alpha)&=\\frac{d}{d\\alpha}f(\\alpha)\\\\\n",
    "&=\\psi''(\\alpha)\\frac{3\\zeta}{2}\\left[\\psi'(\\alpha)+\\psi'(1)\\right]^{\\frac{1}{2}}-\\psi^{(3)}(\\alpha)\n",
    "\\end{align}\n",
    "$$\n",
    "\n",
    "* with asymtotic approximation\n",
    "\n",
    "Let $f(\\alpha)=\\zeta \\left[\\frac{1}{\\alpha}+\\frac{1}{2\\alpha^2}+\\frac{1}{6\\alpha^3}+1.64493407\\right]^{\\frac{3}{2}}+\\frac{1}{\\alpha^2}+\\frac{1}{\\alpha^3}+\\frac{1}{2\\alpha^4}-2.40411381$.\n",
    "\n",
    "\\\n",
    "$$\n",
    "\\begin{align}\n",
    "f'(\\alpha)&=\\frac{d}{d\\alpha}f(\\alpha)\\\\\n",
    "&=-\\zeta\\frac{3}{2} \\left(\\frac{1}{\\alpha}+\\frac{1}{2\\alpha^2}+\\frac{1}{6\\alpha^3}+1.64493407\\right)^{\\frac{1}{2}}\\left(\\frac{1}{\\alpha^2}+\\frac{1}{\\alpha^3}+\\frac{1}{2\\alpha^4}\\right)\\\\\n",
    "&\\quad -\\left(\\frac{2}{\\alpha^3}+\\frac{3}{\\alpha^4}+\\frac{2}{\\alpha^5}\\right)\n",
    "\\end{align}\n",
    "$$\n",
    "\n",
    "\\\n",
    ". \n",
    "* If, we are to update from $\\alpha^{(t)}$ to $\\alpha^{(t+1)}$,\\\n",
    "the following Newton-Raphson equation can be used for the updating:\n",
    "$$\n",
    "\\alpha^{(t+1)} = \\alpha^{(t)} - \\frac{f(\\alpha^{(t)})}{f'(\\alpha^{(t)})}\n",
    "$$"
   ]
  },
  {
   "cell_type": "markdown",
   "id": "67c6124f",
   "metadata": {},
   "source": [
    "## Estimation of $\\lambda$\n",
    "\n",
    "$$\n",
    "\\hat{\\lambda}=\\sqrt{\\frac{\\psi'(\\alpha)+\\psi'(1)}{s^2}}\n",
    "$$\n",
    ", where $s^2$ is the sample variance."
   ]
  },
  {
   "cell_type": "markdown",
   "id": "cfc69259",
   "metadata": {},
   "source": [
    "## Estimation of $\\mu$\n",
    "\n",
    "$$\n",
    "\\hat{\\mu}=\\bar{x}-\\frac{1}{\\lambda}\\left[\\psi(\\alpha)-\\psi(1)\\right]\n",
    "$$\n",
    ", where $\\bar{x}$ is the sample mean."
   ]
  },
  {
   "cell_type": "markdown",
   "id": "4613780e-d6c7-4464-8ee7-8b89568e6403",
   "metadata": {
    "execution": {
     "iopub.execute_input": "2022-12-23T08:41:14.465599Z",
     "iopub.status.busy": "2022-12-23T08:41:14.464571Z",
     "iopub.status.idle": "2022-12-23T08:41:14.469719Z",
     "shell.execute_reply": "2022-12-23T08:41:14.468634Z",
     "shell.execute_reply.started": "2022-12-23T08:41:14.465556Z"
    },
    "tags": []
   },
   "source": [
    "---\n",
    "## Arguments (common for all functions)\n",
    "\n",
    "* Parameters\n",
    "    * `a` - Parameter $\\alpha$.\n",
    "    * `m` - Parameter $\\mu$.\n",
    "    * `l` - Parameter $\\lambda$.\n",
    "\n",
    "<br>\n",
    "\n",
    "* Data\n",
    "    * `x` - `bias_idx_num`.\n",
    "    * `df` - A dataframe containing `bias_idx_num` & `cell_cnt`.   \n",
    "\n",
    "<br>\n",
    "\n",
    "* Others\n",
    "    * `n` - The number of samples to be drawn.\n",
    "    * `q` - The cumulative probability (0 < $q$ < 1).\n",
    "\n",
    "---\n",
    "    "
   ]
  },
  {
   "cell_type": "markdown",
   "id": "1ab66e0b-0bd8-4207-8f27-bbded8697e97",
   "metadata": {},
   "source": [
    "## Functions\n",
    "\n",
    "### PRHL\n",
    "\n",
    "* `dPRHL(x, a, m, l)` : PDF of PRHL.\n",
    "    * Returns \\\n",
    "        `pdf` - The evaluation(s) of PDF at `x`.\n",
    "\n",
    "<br>\n",
    "\n",
    "* `cPRHL(x, a, m, l)` : CDF of PRHL.\n",
    "    * Returns \\\n",
    "        `cdf` - The evaluation(s) of CDF at `x`.\n",
    "\n",
    "<br>\n",
    "\n",
    "* `qPRHL(q, a, m, l)` : Inverse-CDF of PRHL.\n",
    "    * Returns \\\n",
    "        `quantile` - The $q^{\\text{th}}$ quantile.\n",
    "\n",
    "<br>\n",
    "\n",
    "* `rPRHL(n, a, m, l)` : Random sampling from PRHL.\n",
    "    * Returns \\\n",
    "        `samples` - Total `n` samples drawn from $PRHL(\\alpha, \\, \\mu, \\, \\lambda)$.\n",
    "\n",
    "<br>\n",
    "\n",
    "* `estPRHL(df)` : Parameter estimation for PRHL distribution parameters (i.e., $\\alpha, \\, \\mu, \\,\\text{and}\\, \\lambda$).\n",
    "    * Returns \\\n",
    "        `a` - Parameter $\\alpha$, \\\n",
    "        `m` - Parameter $\\mu$, \\\n",
    "        `l` - Parameter $\\lambda$, \\\n",
    "        `skew` - Skewness of the density.\n",
    "        \n",
    "<br>\n",
    "        \n",
    "* `moments_df(df)` : Mean, variance, and skewness for a dataset.\n",
    "    * Returns \\\n",
    "        `mean` - Mean of the data, \\\n",
    "        `var` - Variance of the data, \\\n",
    "        `skew` - Skewness of the data.\n",
    "    \n",
    "<br>\n",
    "\n",
    "* `moments_pdf(a, m, l)` : Mean, variance, and skewness for a $PRHL(\\alpha, \\, \\mu, \\,  \\lambda)$.\n",
    "    * Returns \\\n",
    "        `mean` - Mean of the data, \\\n",
    "        `var` - Variance of the data, \\\n",
    "        `skew` - Skewness of the data.\n",
    "\n",
    "<br>\n",
    "\n",
    "* `a_to_sigma(a)` : Transition of $\\alpha$ to $\\sigma_{section 0}$ & $\\sigma_{section 1}$ for the approximation of half-Gaussian to PRHL.\n",
    "    * Returns \\\n",
    "        `mean` - Mean of the data, \\\n",
    "        `var` - Variance of the data, \\\n",
    "        `skew` - Skewness of the data.\n",
    "\n",
    "<br>\n",
    "\n",
    "### MPRHL\n",
    "\n",
    "* `dPRHLM(x, a, m, l)` : PDF of PRHL.\\\n",
    "    * Returens \\\n",
    "        `pdf` - The evaluation(s) of PDF at `x`.\n",
    "        \n",
    "<br>\n",
    "\n",
    "* `estPRHLM(df, a, m, l)` : Parameter estimation for MPRHL distribution parameters (i.e., vectors of $\\alpha, \\, \\mu, \\,\\text{and}\\, \\lambda$).\n",
    "    * Returns \\\n",
    "        `a` - Parameter $\\alpha$, \\\n",
    "        `m` - Parameter $\\mu$, \\\n",
    "        `l` - Parameter $\\lambda$, \\\n",
    "        `skew` - Skewness of the density.\n",
    "        \n",
    "---"
   ]
  },
  {
   "cell_type": "markdown",
   "id": "2e50af29-b23c-42ac-95bb-5dded48c1f57",
   "metadata": {},
   "source": [
    "## Examples"
   ]
  },
  {
   "cell_type": "code",
   "execution_count": 2,
   "id": "5aff58ac-c896-4ea6-aa10-1599800ccb3c",
   "metadata": {
    "execution": {
     "iopub.execute_input": "2022-12-30T07:55:29.014053Z",
     "iopub.status.busy": "2022-12-30T07:55:29.013558Z",
     "iopub.status.idle": "2022-12-30T07:55:29.029714Z",
     "shell.execute_reply": "2022-12-30T07:55:29.029091Z",
     "shell.execute_reply.started": "2022-12-30T07:55:29.014020Z"
    },
    "tags": []
   },
   "outputs": [
    {
     "data": {
      "text/html": [
       "<div>\n",
       "<style scoped>\n",
       "    .dataframe tbody tr th:only-of-type {\n",
       "        vertical-align: middle;\n",
       "    }\n",
       "\n",
       "    .dataframe tbody tr th {\n",
       "        vertical-align: top;\n",
       "    }\n",
       "\n",
       "    .dataframe thead th {\n",
       "        text-align: right;\n",
       "    }\n",
       "</style>\n",
       "<table border=\"1\" class=\"dataframe\">\n",
       "  <thead>\n",
       "    <tr style=\"text-align: right;\">\n",
       "      <th></th>\n",
       "      <th>x_axis</th>\n",
       "      <th>freq</th>\n",
       "    </tr>\n",
       "  </thead>\n",
       "  <tbody>\n",
       "    <tr>\n",
       "      <th>0</th>\n",
       "      <td>-3.5</td>\n",
       "      <td>8</td>\n",
       "    </tr>\n",
       "    <tr>\n",
       "      <th>1</th>\n",
       "      <td>-3.3</td>\n",
       "      <td>10</td>\n",
       "    </tr>\n",
       "    <tr>\n",
       "      <th>2</th>\n",
       "      <td>-3.1</td>\n",
       "      <td>24</td>\n",
       "    </tr>\n",
       "    <tr>\n",
       "      <th>3</th>\n",
       "      <td>-2.9</td>\n",
       "      <td>38</td>\n",
       "    </tr>\n",
       "  </tbody>\n",
       "</table>\n",
       "</div>"
      ],
      "text/plain": [
       "   x_axis  freq\n",
       "0    -3.5     8\n",
       "1    -3.3    10\n",
       "2    -3.1    24\n",
       "3    -2.9    38"
      ]
     },
     "execution_count": 2,
     "metadata": {},
     "output_type": "execute_result"
    }
   ],
   "source": [
    "x = np.arange(-5,10,0.01)\n",
    "a = 2\n",
    "m = 0\n",
    "l = 1\n",
    "df = pd.read_csv('sample1.csv', index_col=False)\n",
    "df.rename(columns={\"x\":\"x_axis\"}, inplace=True)\n",
    "df.head(4)"
   ]
  },
  {
   "cell_type": "markdown",
   "id": "d1e795cd-df2d-419b-bfd5-6f70eef7291d",
   "metadata": {},
   "source": [
    "### `dPRHL`"
   ]
  },
  {
   "cell_type": "code",
   "execution_count": 13,
   "id": "78645fa9-2c1d-4d3a-a028-4ed9ecdd9559",
   "metadata": {
    "execution": {
     "iopub.execute_input": "2022-12-30T07:55:29.358537Z",
     "iopub.status.busy": "2022-12-30T07:55:29.358213Z",
     "iopub.status.idle": "2022-12-30T07:55:29.481403Z",
     "shell.execute_reply": "2022-12-30T07:55:29.480424Z",
     "shell.execute_reply.started": "2022-12-30T07:55:29.358507Z"
    },
    "tags": []
   },
   "outputs": [
    {
     "data": {
      "text/plain": [
       "<Axes: >"
      ]
     },
     "execution_count": 13,
     "metadata": {},
     "output_type": "execute_result"
    },
    {
     "data": {
      "image/png": "[encoded data removed]",
      "text/plain": [
       "<Figure size 500x300 with 1 Axes>"
      ]
     },
     "metadata": {},
     "output_type": "display_data"
    }
   ],
   "source": [
    "plt.figure(figsize=[5,3])\n",
    "sns.lineplot(\n",
    "    x=x,\n",
    "    y=sl.dPRHL(x, a, m, l)\n",
    ")"
   ]
  },
  {
   "cell_type": "markdown",
   "id": "e35d920c-c181-4b32-990b-397b5052a830",
   "metadata": {
    "execution": {
     "iopub.execute_input": "2022-12-26T06:26:28.665097Z",
     "iopub.status.busy": "2022-12-26T06:26:28.664656Z",
     "iopub.status.idle": "2022-12-26T06:26:28.669793Z",
     "shell.execute_reply": "2022-12-26T06:26:28.668903Z",
     "shell.execute_reply.started": "2022-12-26T06:26:28.665064Z"
    },
    "tags": []
   },
   "source": [
    "### `cPRHL`"
   ]
  },
  {
   "cell_type": "code",
   "execution_count": 14,
   "id": "784166ec-ba5d-463f-89fe-f270b07c1cc8",
   "metadata": {
    "execution": {
     "iopub.execute_input": "2022-12-30T07:55:29.714110Z",
     "iopub.status.busy": "2022-12-30T07:55:29.713167Z",
     "iopub.status.idle": "2022-12-30T07:55:29.824250Z",
     "shell.execute_reply": "2022-12-30T07:55:29.823276Z",
     "shell.execute_reply.started": "2022-12-30T07:55:29.714069Z"
    },
    "tags": []
   },
   "outputs": [
    {
     "data": {
      "text/plain": [
       "<Axes: >"
      ]
     },
     "execution_count": 14,
     "metadata": {},
     "output_type": "execute_result"
    },
    {
     "data": {
      "image/png": "[encoded data removed]",
      "text/plain": [
       "<Figure size 500x300 with 1 Axes>"
      ]
     },
     "metadata": {},
     "output_type": "display_data"
    }
   ],
   "source": [
    "plt.figure(figsize=[5,3])\n",
    "sns.lineplot(\n",
    "    x=x,\n",
    "    y=sl.cPRHL(x, a, m, l)\n",
    ")"
   ]
  },
  {
   "cell_type": "markdown",
   "id": "a887a58e-7fb4-4254-bb7c-930c02b734a2",
   "metadata": {
    "execution": {
     "iopub.execute_input": "2022-12-26T06:26:28.665097Z",
     "iopub.status.busy": "2022-12-26T06:26:28.664656Z",
     "iopub.status.idle": "2022-12-26T06:26:28.669793Z",
     "shell.execute_reply": "2022-12-26T06:26:28.668903Z",
     "shell.execute_reply.started": "2022-12-26T06:26:28.665064Z"
    },
    "tags": []
   },
   "source": [
    "### `qPRHL`"
   ]
  },
  {
   "cell_type": "code",
   "execution_count": 15,
   "id": "6a62bf9d-34bd-44f7-a491-eedc6cfe19e2",
   "metadata": {
    "execution": {
     "iopub.execute_input": "2022-12-30T07:55:30.044864Z",
     "iopub.status.busy": "2022-12-30T07:55:30.044647Z",
     "iopub.status.idle": "2022-12-30T07:55:30.209844Z",
     "shell.execute_reply": "2022-12-30T07:55:30.208846Z",
     "shell.execute_reply.started": "2022-12-30T07:55:30.044844Z"
    },
    "tags": []
   },
   "outputs": [
    {
     "data": {
      "text/plain": [
       "<Axes: >"
      ]
     },
     "execution_count": 15,
     "metadata": {},
     "output_type": "execute_result"
    },
    {
     "data": {
      "image/png": "[encoded data removed]",
      "text/plain": [
       "<Figure size 300x500 with 1 Axes>"
      ]
     },
     "metadata": {},
     "output_type": "display_data"
    }
   ],
   "source": [
    "plt.figure(figsize=[3,5])\n",
    "xx = np.arange(0.001,.999,0.001)\n",
    "sns.lineplot(x=xx,\n",
    "            y=sl.qPRHL(xx,a,m,l)\n",
    "            )"
   ]
  },
  {
   "cell_type": "markdown",
   "id": "b94a0904-85a4-44db-8688-6791e6dd5b08",
   "metadata": {
    "execution": {
     "iopub.execute_input": "2022-12-26T06:26:37.795556Z",
     "iopub.status.busy": "2022-12-26T06:26:37.795137Z",
     "iopub.status.idle": "2022-12-26T06:26:37.800148Z",
     "shell.execute_reply": "2022-12-26T06:26:37.799213Z",
     "shell.execute_reply.started": "2022-12-26T06:26:37.795524Z"
    }
   },
   "source": [
    "### `rPRHL`"
   ]
  },
  {
   "cell_type": "code",
   "execution_count": 16,
   "id": "2f6d276b-245a-430d-8268-5c1c746c9ec2",
   "metadata": {
    "execution": {
     "iopub.execute_input": "2022-12-30T07:55:30.393574Z",
     "iopub.status.busy": "2022-12-30T07:55:30.393102Z",
     "iopub.status.idle": "2022-12-30T07:55:30.498207Z",
     "shell.execute_reply": "2022-12-30T07:55:30.497216Z",
     "shell.execute_reply.started": "2022-12-30T07:55:30.393540Z"
    },
    "tags": []
   },
   "outputs": [
    {
     "data": {
      "text/plain": [
       "<Axes: ylabel='Density'>"
      ]
     },
     "execution_count": 16,
     "metadata": {},
     "output_type": "execute_result"
    },
    {
     "data": {
      "image/png": "[encoded data removed]",
      "text/plain": [
       "<Figure size 500x300 with 1 Axes>"
      ]
     },
     "metadata": {},
     "output_type": "display_data"
    }
   ],
   "source": [
    "plt.figure(figsize=[5,3])\n",
    "sns.kdeplot(\n",
    "    x=sl.rPRHL(1000, a, m, l)\n",
    ")"
   ]
  },
  {
   "cell_type": "markdown",
   "id": "51a298ba-5abf-4a3f-91eb-a89bd7bed4ea",
   "metadata": {},
   "source": [
    "### `estPRHL`"
   ]
  },
  {
   "cell_type": "code",
   "execution_count": 4,
   "id": "8cf15319-4a46-47f0-9075-da5076734f01",
   "metadata": {
    "execution": {
     "iopub.execute_input": "2022-12-30T07:55:30.899510Z",
     "iopub.status.busy": "2022-12-30T07:55:30.898893Z",
     "iopub.status.idle": "2022-12-30T07:55:30.910870Z",
     "shell.execute_reply": "2022-12-30T07:55:30.909849Z",
     "shell.execute_reply.started": "2022-12-30T07:55:30.899475Z"
    },
    "tags": []
   },
   "outputs": [
    {
     "name": "stdout",
     "output_type": "stream",
     "text": [
      "alpha    =  1.1779303049503533\n",
      "mu       =  -0.5954290486712298\n",
      "lambda   =  1.8296874364894604\n",
      "skewness =  0.1684985336778425\n"
     ]
    }
   ],
   "source": [
    "a, m, l, mean, var, skew, median = estPRHL(df)\n",
    "print('alpha    = ', a)\n",
    "print('mu       = ', m)\n",
    "print('lambda   = ', l)\n",
    "print('skewness = ', skew)"
   ]
  },
  {
   "cell_type": "markdown",
   "id": "9b707677-fda7-4ee5-8bcc-1cd640131214",
   "metadata": {},
   "source": [
    "### `moments_df`"
   ]
  },
  {
   "cell_type": "code",
   "execution_count": 5,
   "id": "8f8ff296-5a64-4fbe-a21a-d53d2ff98426",
   "metadata": {
    "execution": {
     "iopub.execute_input": "2022-12-30T07:55:31.294594Z",
     "iopub.status.busy": "2022-12-30T07:55:31.294437Z",
     "iopub.status.idle": "2022-12-30T07:55:31.303867Z",
     "shell.execute_reply": "2022-12-30T07:55:31.302704Z",
     "shell.execute_reply.started": "2022-12-30T07:55:31.294580Z"
    },
    "tags": []
   },
   "outputs": [
    {
     "name": "stdout",
     "output_type": "stream",
     "text": [
      "mean     =  -0.4534161214225308\n",
      "variance =  1.0558977287998301\n",
      "skewness =  0.12818117750263655\n"
     ]
    }
   ],
   "source": [
    "mean,var,sk = moments_df(df)\n",
    "print('mean     = ', mean)\n",
    "print('variance = ', var)\n",
    "print('skewness = ', sk)"
   ]
  },
  {
   "cell_type": "markdown",
   "id": "ed962bb7-fd69-4ad7-a48c-a249e40d9558",
   "metadata": {},
   "source": [
    "### `moments_pdf`\n",
    "\n"
   ]
  },
  {
   "cell_type": "code",
   "execution_count": 6,
   "id": "58f4a553-3625-4b14-8bf5-3c23bd75b87c",
   "metadata": {
    "execution": {
     "iopub.execute_input": "2022-12-30T07:55:31.781948Z",
     "iopub.status.busy": "2022-12-30T07:55:31.781609Z",
     "iopub.status.idle": "2022-12-30T07:55:31.787700Z",
     "shell.execute_reply": "2022-12-30T07:55:31.786654Z",
     "shell.execute_reply.started": "2022-12-30T07:55:31.781925Z"
    },
    "tags": []
   },
   "outputs": [
    {
     "name": "stdout",
     "output_type": "stream",
     "text": [
      "mean     =  -0.4534161214225308\n",
      "variance =  0.8799147739998586\n",
      "skewness =  0.16849853367784254\n"
     ]
    }
   ],
   "source": [
    "mean,var,sk = moments_pdf(a, m, l)\n",
    "print('mean     = ', mean)\n",
    "print('variance = ', var)\n",
    "print('skewness = ', sk)"
   ]
  },
  {
   "cell_type": "code",
   "execution_count": null,
   "id": "53711b6e-d643-4aff-81dc-aab6bcb08d0f",
   "metadata": {},
   "outputs": [],
   "source": []
  }
 ],
 "metadata": {
  "kernelspec": {
   "display_name": "Python 3 (ipykernel)",
   "language": "python",
   "name": "python3"
  },
  "language_info": {
   "codemirror_mode": {
    "name": "ipython",
    "version": 3
   },
   "file_extension": ".py",
   "mimetype": "text/x-python",
   "name": "python",
   "nbconvert_exporter": "python",
   "pygments_lexer": "ipython3",
   "version": "3.12.0"
  },
  "toc-autonumbering": true
 },
 "nbformat": 4,
 "nbformat_minor": 5
}
